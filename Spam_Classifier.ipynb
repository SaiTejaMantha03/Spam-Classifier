{
 "cells": [
  {
   "cell_type": "code",
   "execution_count": 1,
   "id": "aa8eb2bd-f662-4216-9da7-eb1c74d0f9e9",
   "metadata": {},
   "outputs": [],
   "source": [
    "import pandas as pd \n",
    "import numpy as np"
   ]
  },
  {
   "cell_type": "code",
   "execution_count": 2,
   "id": "949cf6a8-5df6-4c6c-98db-595dbc04680b",
   "metadata": {},
   "outputs": [],
   "source": [
    "df1 = pd.read_csv(\"combined_data.csv\")\n",
    "df2 = pd.read_csv(\"spam.csv\")\n",
    "df3 = pd.read_csv(\"spam_ham_dataset.csv\")\n",
    "df4 = pd.read_csv(\"email.csv\")"
   ]
  },
  {
   "cell_type": "code",
   "execution_count": 3,
   "id": "b97fcd7a-19b3-4c71-97df-0a242b32f365",
   "metadata": {},
   "outputs": [
    {
     "data": {
      "text/html": [
       "<div>\n",
       "<style scoped>\n",
       "    .dataframe tbody tr th:only-of-type {\n",
       "        vertical-align: middle;\n",
       "    }\n",
       "\n",
       "    .dataframe tbody tr th {\n",
       "        vertical-align: top;\n",
       "    }\n",
       "\n",
       "    .dataframe thead th {\n",
       "        text-align: right;\n",
       "    }\n",
       "</style>\n",
       "<table border=\"1\" class=\"dataframe\">\n",
       "  <thead>\n",
       "    <tr style=\"text-align: right;\">\n",
       "      <th></th>\n",
       "      <th>Category</th>\n",
       "      <th>Message</th>\n",
       "    </tr>\n",
       "  </thead>\n",
       "  <tbody>\n",
       "    <tr>\n",
       "      <th>0</th>\n",
       "      <td>ham</td>\n",
       "      <td>ounce feather bowl hummingbird opec moment ala...</td>\n",
       "    </tr>\n",
       "    <tr>\n",
       "      <th>1</th>\n",
       "      <td>ham</td>\n",
       "      <td>wulvob get your medircations online qnb ikud v...</td>\n",
       "    </tr>\n",
       "    <tr>\n",
       "      <th>2</th>\n",
       "      <td>spam</td>\n",
       "      <td>computer connection from cnn com wednesday es...</td>\n",
       "    </tr>\n",
       "    <tr>\n",
       "      <th>3</th>\n",
       "      <td>ham</td>\n",
       "      <td>university degree obtain a prosperous future m...</td>\n",
       "    </tr>\n",
       "    <tr>\n",
       "      <th>4</th>\n",
       "      <td>spam</td>\n",
       "      <td>thanks for all your answers guys i know i shou...</td>\n",
       "    </tr>\n",
       "  </tbody>\n",
       "</table>\n",
       "</div>"
      ],
      "text/plain": [
       "  Category                                            Message\n",
       "0      ham  ounce feather bowl hummingbird opec moment ala...\n",
       "1      ham  wulvob get your medircations online qnb ikud v...\n",
       "2     spam   computer connection from cnn com wednesday es...\n",
       "3      ham  university degree obtain a prosperous future m...\n",
       "4     spam  thanks for all your answers guys i know i shou..."
      ]
     },
     "execution_count": 3,
     "metadata": {},
     "output_type": "execute_result"
    }
   ],
   "source": [
    "df1 = df1.replace({1:\"ham\",0:\"spam\"})\n",
    "df1 = df1.rename(columns={\"text\" : \"Message\",\"label\":\"Category\"})\n",
    "df1.head()"
   ]
  },
  {
   "cell_type": "code",
   "execution_count": 4,
   "id": "efeb1b20-9d11-4bf6-b08e-4477b28792bc",
   "metadata": {},
   "outputs": [
    {
     "data": {
      "text/html": [
       "<div>\n",
       "<style scoped>\n",
       "    .dataframe tbody tr th:only-of-type {\n",
       "        vertical-align: middle;\n",
       "    }\n",
       "\n",
       "    .dataframe tbody tr th {\n",
       "        vertical-align: top;\n",
       "    }\n",
       "\n",
       "    .dataframe thead th {\n",
       "        text-align: right;\n",
       "    }\n",
       "</style>\n",
       "<table border=\"1\" class=\"dataframe\">\n",
       "  <thead>\n",
       "    <tr style=\"text-align: right;\">\n",
       "      <th></th>\n",
       "      <th>Category</th>\n",
       "      <th>Message</th>\n",
       "    </tr>\n",
       "  </thead>\n",
       "  <tbody>\n",
       "    <tr>\n",
       "      <th>0</th>\n",
       "      <td>ham</td>\n",
       "      <td>Go until jurong point, crazy.. Available only ...</td>\n",
       "    </tr>\n",
       "    <tr>\n",
       "      <th>1</th>\n",
       "      <td>ham</td>\n",
       "      <td>Ok lar... Joking wif u oni...</td>\n",
       "    </tr>\n",
       "    <tr>\n",
       "      <th>2</th>\n",
       "      <td>spam</td>\n",
       "      <td>Free entry in 2 a wkly comp to win FA Cup fina...</td>\n",
       "    </tr>\n",
       "    <tr>\n",
       "      <th>3</th>\n",
       "      <td>ham</td>\n",
       "      <td>U dun say so early hor... U c already then say...</td>\n",
       "    </tr>\n",
       "    <tr>\n",
       "      <th>4</th>\n",
       "      <td>ham</td>\n",
       "      <td>Nah I don't think he goes to usf, he lives aro...</td>\n",
       "    </tr>\n",
       "  </tbody>\n",
       "</table>\n",
       "</div>"
      ],
      "text/plain": [
       "  Category                                            Message\n",
       "0      ham  Go until jurong point, crazy.. Available only ...\n",
       "1      ham                      Ok lar... Joking wif u oni...\n",
       "2     spam  Free entry in 2 a wkly comp to win FA Cup fina...\n",
       "3      ham  U dun say so early hor... U c already then say...\n",
       "4      ham  Nah I don't think he goes to usf, he lives aro..."
      ]
     },
     "execution_count": 4,
     "metadata": {},
     "output_type": "execute_result"
    }
   ],
   "source": [
    "df2.head()"
   ]
  },
  {
   "cell_type": "code",
   "execution_count": 5,
   "id": "98670a94-c186-4661-8f2b-d8aa2ea118db",
   "metadata": {},
   "outputs": [
    {
     "data": {
      "text/html": [
       "<div>\n",
       "<style scoped>\n",
       "    .dataframe tbody tr th:only-of-type {\n",
       "        vertical-align: middle;\n",
       "    }\n",
       "\n",
       "    .dataframe tbody tr th {\n",
       "        vertical-align: top;\n",
       "    }\n",
       "\n",
       "    .dataframe thead th {\n",
       "        text-align: right;\n",
       "    }\n",
       "</style>\n",
       "<table border=\"1\" class=\"dataframe\">\n",
       "  <thead>\n",
       "    <tr style=\"text-align: right;\">\n",
       "      <th></th>\n",
       "      <th>Category</th>\n",
       "      <th>Message</th>\n",
       "    </tr>\n",
       "  </thead>\n",
       "  <tbody>\n",
       "    <tr>\n",
       "      <th>0</th>\n",
       "      <td>ham</td>\n",
       "      <td>Subject: enron methanol ; meter # : 988291\\r\\n...</td>\n",
       "    </tr>\n",
       "    <tr>\n",
       "      <th>1</th>\n",
       "      <td>ham</td>\n",
       "      <td>Subject: hpl nom for january 9 , 2001\\r\\n( see...</td>\n",
       "    </tr>\n",
       "    <tr>\n",
       "      <th>2</th>\n",
       "      <td>ham</td>\n",
       "      <td>Subject: neon retreat\\r\\nho ho ho , we ' re ar...</td>\n",
       "    </tr>\n",
       "    <tr>\n",
       "      <th>3</th>\n",
       "      <td>spam</td>\n",
       "      <td>Subject: photoshop , windows , office . cheap ...</td>\n",
       "    </tr>\n",
       "    <tr>\n",
       "      <th>4</th>\n",
       "      <td>ham</td>\n",
       "      <td>Subject: re : indian springs\\r\\nthis deal is t...</td>\n",
       "    </tr>\n",
       "    <tr>\n",
       "      <th>...</th>\n",
       "      <td>...</td>\n",
       "      <td>...</td>\n",
       "    </tr>\n",
       "    <tr>\n",
       "      <th>5166</th>\n",
       "      <td>ham</td>\n",
       "      <td>Subject: put the 10 on the ft\\r\\nthe transport...</td>\n",
       "    </tr>\n",
       "    <tr>\n",
       "      <th>5167</th>\n",
       "      <td>ham</td>\n",
       "      <td>Subject: 3 / 4 / 2000 and following noms\\r\\nhp...</td>\n",
       "    </tr>\n",
       "    <tr>\n",
       "      <th>5168</th>\n",
       "      <td>ham</td>\n",
       "      <td>Subject: calpine daily gas nomination\\r\\n&gt;\\r\\n...</td>\n",
       "    </tr>\n",
       "    <tr>\n",
       "      <th>5169</th>\n",
       "      <td>ham</td>\n",
       "      <td>Subject: industrial worksheets for august 2000...</td>\n",
       "    </tr>\n",
       "    <tr>\n",
       "      <th>5170</th>\n",
       "      <td>spam</td>\n",
       "      <td>Subject: important online banking alert\\r\\ndea...</td>\n",
       "    </tr>\n",
       "  </tbody>\n",
       "</table>\n",
       "<p>5171 rows × 2 columns</p>\n",
       "</div>"
      ],
      "text/plain": [
       "     Category                                            Message\n",
       "0         ham  Subject: enron methanol ; meter # : 988291\\r\\n...\n",
       "1         ham  Subject: hpl nom for january 9 , 2001\\r\\n( see...\n",
       "2         ham  Subject: neon retreat\\r\\nho ho ho , we ' re ar...\n",
       "3        spam  Subject: photoshop , windows , office . cheap ...\n",
       "4         ham  Subject: re : indian springs\\r\\nthis deal is t...\n",
       "...       ...                                                ...\n",
       "5166      ham  Subject: put the 10 on the ft\\r\\nthe transport...\n",
       "5167      ham  Subject: 3 / 4 / 2000 and following noms\\r\\nhp...\n",
       "5168      ham  Subject: calpine daily gas nomination\\r\\n>\\r\\n...\n",
       "5169      ham  Subject: industrial worksheets for august 2000...\n",
       "5170     spam  Subject: important online banking alert\\r\\ndea...\n",
       "\n",
       "[5171 rows x 2 columns]"
      ]
     },
     "execution_count": 5,
     "metadata": {},
     "output_type": "execute_result"
    }
   ],
   "source": [
    "df3 = df3.rename(columns={\"text\" : \"Message\",\"label\":\"Category\"})\n",
    "df3 = df3.drop(columns = [\"Unnamed: 0\",\"label_num\"])\n",
    "df3"
   ]
  },
  {
   "cell_type": "code",
   "execution_count": 6,
   "id": "a05270c7-6510-459d-9914-cc0e1c4b8772",
   "metadata": {},
   "outputs": [
    {
     "data": {
      "text/html": [
       "<div>\n",
       "<style scoped>\n",
       "    .dataframe tbody tr th:only-of-type {\n",
       "        vertical-align: middle;\n",
       "    }\n",
       "\n",
       "    .dataframe tbody tr th {\n",
       "        vertical-align: top;\n",
       "    }\n",
       "\n",
       "    .dataframe thead th {\n",
       "        text-align: right;\n",
       "    }\n",
       "</style>\n",
       "<table border=\"1\" class=\"dataframe\">\n",
       "  <thead>\n",
       "    <tr style=\"text-align: right;\">\n",
       "      <th></th>\n",
       "      <th>Category</th>\n",
       "      <th>Message</th>\n",
       "    </tr>\n",
       "  </thead>\n",
       "  <tbody>\n",
       "    <tr>\n",
       "      <th>0</th>\n",
       "      <td>ham</td>\n",
       "      <td>Go until jurong point, crazy.. Available only ...</td>\n",
       "    </tr>\n",
       "    <tr>\n",
       "      <th>1</th>\n",
       "      <td>ham</td>\n",
       "      <td>Ok lar... Joking wif u oni...</td>\n",
       "    </tr>\n",
       "    <tr>\n",
       "      <th>2</th>\n",
       "      <td>spam</td>\n",
       "      <td>Free entry in 2 a wkly comp to win FA Cup fina...</td>\n",
       "    </tr>\n",
       "    <tr>\n",
       "      <th>3</th>\n",
       "      <td>ham</td>\n",
       "      <td>U dun say so early hor... U c already then say...</td>\n",
       "    </tr>\n",
       "    <tr>\n",
       "      <th>4</th>\n",
       "      <td>ham</td>\n",
       "      <td>Nah I don't think he goes to usf, he lives aro...</td>\n",
       "    </tr>\n",
       "  </tbody>\n",
       "</table>\n",
       "</div>"
      ],
      "text/plain": [
       "  Category                                            Message\n",
       "0      ham  Go until jurong point, crazy.. Available only ...\n",
       "1      ham                      Ok lar... Joking wif u oni...\n",
       "2     spam  Free entry in 2 a wkly comp to win FA Cup fina...\n",
       "3      ham  U dun say so early hor... U c already then say...\n",
       "4      ham  Nah I don't think he goes to usf, he lives aro..."
      ]
     },
     "execution_count": 6,
     "metadata": {},
     "output_type": "execute_result"
    }
   ],
   "source": [
    "df4 = df4.rename(columns={\"text\" : \"Message\",\"spam\":\"Category\"})\n",
    "df4 = df4.replace({1:\"ham\",0:\"spam\"})\n",
    "df4.head()"
   ]
  },
  {
   "cell_type": "code",
   "execution_count": 7,
   "id": "e085d84b-06f8-497f-a3e9-8da2810584d6",
   "metadata": {},
   "outputs": [
    {
     "data": {
      "text/html": [
       "<div>\n",
       "<style scoped>\n",
       "    .dataframe tbody tr th:only-of-type {\n",
       "        vertical-align: middle;\n",
       "    }\n",
       "\n",
       "    .dataframe tbody tr th {\n",
       "        vertical-align: top;\n",
       "    }\n",
       "\n",
       "    .dataframe thead th {\n",
       "        text-align: right;\n",
       "    }\n",
       "</style>\n",
       "<table border=\"1\" class=\"dataframe\">\n",
       "  <thead>\n",
       "    <tr style=\"text-align: right;\">\n",
       "      <th></th>\n",
       "      <th>Category</th>\n",
       "      <th>Message</th>\n",
       "    </tr>\n",
       "  </thead>\n",
       "  <tbody>\n",
       "    <tr>\n",
       "      <th>0</th>\n",
       "      <td>ham</td>\n",
       "      <td>ounce feather bowl hummingbird opec moment ala...</td>\n",
       "    </tr>\n",
       "    <tr>\n",
       "      <th>1</th>\n",
       "      <td>ham</td>\n",
       "      <td>wulvob get your medircations online qnb ikud v...</td>\n",
       "    </tr>\n",
       "    <tr>\n",
       "      <th>2</th>\n",
       "      <td>spam</td>\n",
       "      <td>computer connection from cnn com wednesday es...</td>\n",
       "    </tr>\n",
       "    <tr>\n",
       "      <th>3</th>\n",
       "      <td>ham</td>\n",
       "      <td>university degree obtain a prosperous future m...</td>\n",
       "    </tr>\n",
       "    <tr>\n",
       "      <th>4</th>\n",
       "      <td>spam</td>\n",
       "      <td>thanks for all your answers guys i know i shou...</td>\n",
       "    </tr>\n",
       "  </tbody>\n",
       "</table>\n",
       "</div>"
      ],
      "text/plain": [
       "  Category                                            Message\n",
       "0      ham  ounce feather bowl hummingbird opec moment ala...\n",
       "1      ham  wulvob get your medircations online qnb ikud v...\n",
       "2     spam   computer connection from cnn com wednesday es...\n",
       "3      ham  university degree obtain a prosperous future m...\n",
       "4     spam  thanks for all your answers guys i know i shou..."
      ]
     },
     "execution_count": 7,
     "metadata": {},
     "output_type": "execute_result"
    }
   ],
   "source": [
    "df = pd.concat([df1,df2,df3,df4], ignore_index=True, sort=False)\n",
    "df.head()"
   ]
  },
  {
   "cell_type": "code",
   "execution_count": 8,
   "id": "2ebbb29a-f4ee-4d1a-bbf6-7d0e7e31a0d0",
   "metadata": {},
   "outputs": [
    {
     "data": {
      "text/plain": [
       "(99764, 2)"
      ]
     },
     "execution_count": 8,
     "metadata": {},
     "output_type": "execute_result"
    }
   ],
   "source": [
    "df.shape"
   ]
  },
  {
   "cell_type": "markdown",
   "id": "73de8cae",
   "metadata": {},
   "source": [
    "# Pre-Processing using Lemmetization."
   ]
  },
  {
   "cell_type": "code",
   "execution_count": 9,
   "id": "cc931120-408e-45a1-b3b0-72a9c3f51a67",
   "metadata": {},
   "outputs": [],
   "source": [
    "import nltk \n",
    "from nltk.corpus import stopwords\n",
    "from nltk.stem import WordNetLemmatizer\n",
    "lemmetizer = WordNetLemmatizer()\n"
   ]
  },
  {
   "cell_type": "code",
   "execution_count": 10,
   "id": "32e6299c-e0da-4221-b117-1ae778ebca07",
   "metadata": {},
   "outputs": [],
   "source": [
    "import re\n",
    "corpus = []\n",
    "\n",
    "stop_words = set(stopwords.words('english'))  # Load once, not inside loop\n",
    "\n",
    "def clean_text(text):\n",
    "    text = re.sub('[^a-zA-Z0-9]', ' ', text)  # Fix: 'A-z' also matches special chars\n",
    "    text = text.lower()\n",
    "    words = text.split()\n",
    "    words = [lemmetizer.lemmatize(word) for word in words if word not in stop_words]\n",
    "    return ' '.join(words)\n",
    "\n",
    "corpus = df[\"Message\"].apply(clean_text).tolist()"
   ]
  },
  {
   "cell_type": "code",
   "execution_count": 11,
   "id": "7dcfcf01-6393-4efd-9367-417663926ee8",
   "metadata": {},
   "outputs": [
    {
     "data": {
      "text/plain": [
       "'ounce feather bowl hummingbird opec moment alabaster valkyrie dyad bread flack desperate iambic hadron heft quell yoghurt bunkmate divert afterimage'"
      ]
     },
     "execution_count": 11,
     "metadata": {},
     "output_type": "execute_result"
    }
   ],
   "source": [
    "corpus[0]"
   ]
  },
  {
   "cell_type": "code",
   "execution_count": 12,
   "id": "a62ae20f-596a-4558-9b6e-272eb1d56402",
   "metadata": {},
   "outputs": [
    {
     "data": {
      "text/plain": [
       "'ounce feather bowl hummingbird opec moment alabaster valkyrie dyad bread flack desperate iambic hadron heft quell yoghurt bunkmate divert afterimage'"
      ]
     },
     "execution_count": 12,
     "metadata": {},
     "output_type": "execute_result"
    }
   ],
   "source": [
    "df[\"Message\"][0]"
   ]
  },
  {
   "cell_type": "markdown",
   "id": "a05ae280",
   "metadata": {},
   "source": [
    "## Till now we have converted text to clean text this is preprocessing step to remove waste from text data.\n"
   ]
  },
  {
   "cell_type": "markdown",
   "id": "cb16ba34",
   "metadata": {},
   "source": [
    "# TF-IDF "
   ]
  },
  {
   "cell_type": "code",
   "execution_count": 13,
   "id": "563b1547-f482-406a-98bc-fc44a3fc7395",
   "metadata": {},
   "outputs": [],
   "source": [
    "from sklearn.feature_extraction.text import TfidfVectorizer\n",
    "tf = TfidfVectorizer(max_features=3000, binary=True,ngram_range=(1,3))\n",
    "X = tf.fit_transform(corpus).toarray()"
   ]
  },
  {
   "cell_type": "code",
   "execution_count": 14,
   "id": "8df7a77b-2422-4eb5-acc0-90a7866f366f",
   "metadata": {},
   "outputs": [
    {
     "data": {
      "text/plain": [
       "array([[0., 0., 0., ..., 0., 0., 0.],\n",
       "       [0., 0., 0., ..., 0., 0., 0.],\n",
       "       [0., 0., 0., ..., 0., 0., 0.],\n",
       "       ...,\n",
       "       [0., 0., 0., ..., 0., 0., 0.],\n",
       "       [0., 0., 0., ..., 0., 0., 0.],\n",
       "       [0., 0., 0., ..., 0., 0., 0.]])"
      ]
     },
     "execution_count": 14,
     "metadata": {},
     "output_type": "execute_result"
    }
   ],
   "source": [
    "X"
   ]
  },
  {
   "cell_type": "code",
   "execution_count": 15,
   "id": "fe20fd26-74c9-4095-bd6d-399cf538d52d",
   "metadata": {},
   "outputs": [
    {
     "data": {
      "text/plain": [
       "(99764, 3000)"
      ]
     },
     "execution_count": 15,
     "metadata": {},
     "output_type": "execute_result"
    }
   ],
   "source": [
    "X.shape"
   ]
  },
  {
   "cell_type": "code",
   "execution_count": 16,
   "id": "4ee396e5-434e-48c9-8c87-08e467e09a39",
   "metadata": {},
   "outputs": [],
   "source": [
    "y = pd.get_dummies(df[\"Category\"])\n",
    "y = y.iloc[:,1].values"
   ]
  },
  {
   "cell_type": "code",
   "execution_count": 17,
   "id": "427f38b3-19c4-44a9-99f9-ca27192e0202",
   "metadata": {},
   "outputs": [
    {
     "data": {
      "text/plain": [
       "(99764,)"
      ]
     },
     "execution_count": 17,
     "metadata": {},
     "output_type": "execute_result"
    }
   ],
   "source": [
    "y.shape"
   ]
  },
  {
   "cell_type": "markdown",
   "id": "6c45e88b",
   "metadata": {},
   "source": [
    "## Train-test split."
   ]
  },
  {
   "cell_type": "code",
   "execution_count": 18,
   "id": "c6fe8824-f118-4166-a60b-f1c01cb7ebbf",
   "metadata": {},
   "outputs": [],
   "source": [
    "from sklearn.model_selection import train_test_split\n",
    "\n",
    "X_train, X_test, y_train, y_test = train_test_split(\n",
    "    X, y, test_size=0.2, random_state=0)"
   ]
  },
  {
   "cell_type": "markdown",
   "id": "7a194a64",
   "metadata": {},
   "source": [
    "## Now since all data conversion and processing is done. Lets check different algorithms to check which is best for this problem with high precision and accuracy."
   ]
  },
  {
   "cell_type": "markdown",
   "id": "37deb8f7",
   "metadata": {},
   "source": [
    "# Multinomial Naive Bayes Classifier "
   ]
  },
  {
   "cell_type": "code",
   "execution_count": 19,
   "id": "58969be8-abc3-4910-9e6a-42fb7ce76b00",
   "metadata": {},
   "outputs": [],
   "source": [
    "from sklearn.naive_bayes import MultinomialNB\n",
    "spam_class = MultinomialNB().fit(X_train,y_train)\n"
   ]
  },
  {
   "cell_type": "code",
   "execution_count": 20,
   "id": "cedd6dae-a675-47d1-b052-88bafc52c530",
   "metadata": {},
   "outputs": [],
   "source": [
    "y_pred = spam_class.predict(X_test)"
   ]
  },
  {
   "cell_type": "code",
   "execution_count": 21,
   "id": "b1fa8de2-ed74-471d-8b61-6e7d53aa65a6",
   "metadata": {},
   "outputs": [
    {
     "data": {
      "text/plain": [
       "0.875006264722097"
      ]
     },
     "execution_count": 21,
     "metadata": {},
     "output_type": "execute_result"
    }
   ],
   "source": [
    "from sklearn.metrics import accuracy_score,classification_report, precision_recall_curve , precision_score, recall_score, f1_score\n",
    "score = accuracy_score(y_pred,y_test)\n",
    "score"
   ]
  },
  {
   "cell_type": "code",
   "execution_count": 22,
   "id": "249375c3-668a-4ad6-b687-4b7c376354f1",
   "metadata": {},
   "outputs": [
    {
     "name": "stdout",
     "output_type": "stream",
     "text": [
      "              precision    recall  f1-score   support\n",
      "\n",
      "       False       0.93      0.86      0.90     12451\n",
      "        True       0.80      0.90      0.84      7502\n",
      "\n",
      "    accuracy                           0.88     19953\n",
      "   macro avg       0.86      0.88      0.87     19953\n",
      "weighted avg       0.88      0.88      0.88     19953\n",
      "\n"
     ]
    }
   ],
   "source": [
    "print(classification_report(y_pred,y_test))"
   ]
  },
  {
   "cell_type": "code",
   "execution_count": 23,
   "id": "f55c01ed",
   "metadata": {},
   "outputs": [],
   "source": [
    "Metrics = pd.DataFrame(columns=[\"ML-Model\",\"Precision\",\"Recall\",\"F1-Score\",\"Accuracy\"])"
   ]
  },
  {
   "cell_type": "code",
   "execution_count": 24,
   "id": "5fa1b506",
   "metadata": {},
   "outputs": [
    {
     "name": "stdout",
     "output_type": "stream",
     "text": [
      " Precision : 0.8966942148760331\n",
      " Recall : 0.7964717025811034\n",
      " F1-Score:  0.8436167544519689 \n"
     ]
    }
   ],
   "source": [
    "Metrics.loc[len(Metrics)] = [\"Multinomial-NB\", precision_score(y_test, y_pred), recall_score(y_test, y_pred), f1_score(y_test, y_pred), accuracy_score(y_test, y_pred)]\n",
    "print (f\" Precision : {precision_score(y_test, y_pred)}\")\n",
    "print(f\" Recall : {recall_score(y_test, y_pred)}\")\n",
    "print(f\" F1-Score:  {f1_score(y_test, y_pred)} \")\n"
   ]
  },
  {
   "cell_type": "markdown",
   "id": "bca67346",
   "metadata": {},
   "source": [
    "# Stochastic gradient Descent\n"
   ]
  },
  {
   "cell_type": "code",
   "execution_count": 25,
   "id": "043c9b50",
   "metadata": {},
   "outputs": [],
   "source": [
    "from sklearn.linear_model import SGDClassifier\n",
    "spam_class = SGDClassifier().fit(X_train,y_train)\n",
    "\n",
    "y_pred = spam_class.predict(X_test)"
   ]
  },
  {
   "cell_type": "code",
   "execution_count": 26,
   "id": "180a3bec",
   "metadata": {},
   "outputs": [
    {
     "name": "stdout",
     "output_type": "stream",
     "text": [
      "              precision    recall  f1-score   support\n",
      "\n",
      "       False       0.92      0.96      0.94     11507\n",
      "        True       0.94      0.89      0.91      8446\n",
      "\n",
      "    accuracy                           0.93     19953\n",
      "   macro avg       0.93      0.92      0.93     19953\n",
      "weighted avg       0.93      0.93      0.93     19953\n",
      "\n"
     ]
    }
   ],
   "source": [
    "print(classification_report(y_test, y_pred))"
   ]
  },
  {
   "cell_type": "code",
   "execution_count": 27,
   "id": "60c7a323",
   "metadata": {},
   "outputs": [],
   "source": [
    "Metrics.loc[len(Metrics)] = [\"SGDClassifier\", precision_score(y_test, y_pred), recall_score(y_test, y_pred), f1_score(y_test, y_pred), accuracy_score(y_test, y_pred)]"
   ]
  },
  {
   "cell_type": "code",
   "execution_count": 28,
   "id": "6b8e3a9e",
   "metadata": {},
   "outputs": [
    {
     "data": {
      "text/html": [
       "<div>\n",
       "<style scoped>\n",
       "    .dataframe tbody tr th:only-of-type {\n",
       "        vertical-align: middle;\n",
       "    }\n",
       "\n",
       "    .dataframe tbody tr th {\n",
       "        vertical-align: top;\n",
       "    }\n",
       "\n",
       "    .dataframe thead th {\n",
       "        text-align: right;\n",
       "    }\n",
       "</style>\n",
       "<table border=\"1\" class=\"dataframe\">\n",
       "  <thead>\n",
       "    <tr style=\"text-align: right;\">\n",
       "      <th></th>\n",
       "      <th>ML-Model</th>\n",
       "      <th>Precision</th>\n",
       "      <th>Recall</th>\n",
       "      <th>F1-Score</th>\n",
       "      <th>Accuracy</th>\n",
       "    </tr>\n",
       "  </thead>\n",
       "  <tbody>\n",
       "    <tr>\n",
       "      <th>0</th>\n",
       "      <td>Multinomial-NB</td>\n",
       "      <td>0.896694</td>\n",
       "      <td>0.796472</td>\n",
       "      <td>0.843617</td>\n",
       "      <td>0.875006</td>\n",
       "    </tr>\n",
       "    <tr>\n",
       "      <th>1</th>\n",
       "      <td>SGDClassifier</td>\n",
       "      <td>0.941095</td>\n",
       "      <td>0.889060</td>\n",
       "      <td>0.914338</td>\n",
       "      <td>0.929484</td>\n",
       "    </tr>\n",
       "  </tbody>\n",
       "</table>\n",
       "</div>"
      ],
      "text/plain": [
       "         ML-Model  Precision    Recall  F1-Score  Accuracy\n",
       "0  Multinomial-NB   0.896694  0.796472  0.843617  0.875006\n",
       "1   SGDClassifier   0.941095  0.889060  0.914338  0.929484"
      ]
     },
     "execution_count": 28,
     "metadata": {},
     "output_type": "execute_result"
    }
   ],
   "source": [
    "Metrics"
   ]
  },
  {
   "cell_type": "markdown",
   "id": "674b4d87",
   "metadata": {},
   "source": [
    "# Random Forest Classifier"
   ]
  },
  {
   "cell_type": "code",
   "execution_count": 29,
   "id": "02f2d7bc",
   "metadata": {},
   "outputs": [],
   "source": [
    "from sklearn.ensemble import RandomForestClassifier\n",
    "spam_class = RandomForestClassifier().fit(X_train,y_train)\n",
    "y_pred = spam_class.predict(X_test)"
   ]
  },
  {
   "cell_type": "code",
   "execution_count": 30,
   "id": "0030f0e4",
   "metadata": {},
   "outputs": [
    {
     "name": "stdout",
     "output_type": "stream",
     "text": [
      "              precision    recall  f1-score   support\n",
      "\n",
      "       False       0.95      0.96      0.95     11507\n",
      "        True       0.94      0.92      0.93      8446\n",
      "\n",
      "    accuracy                           0.94     19953\n",
      "   macro avg       0.94      0.94      0.94     19953\n",
      "weighted avg       0.94      0.94      0.94     19953\n",
      "\n"
     ]
    }
   ],
   "source": [
    "print(classification_report(y_test, y_pred))"
   ]
  },
  {
   "cell_type": "code",
   "execution_count": 31,
   "id": "879f37bc",
   "metadata": {},
   "outputs": [
    {
     "data": {
      "text/html": [
       "<div>\n",
       "<style scoped>\n",
       "    .dataframe tbody tr th:only-of-type {\n",
       "        vertical-align: middle;\n",
       "    }\n",
       "\n",
       "    .dataframe tbody tr th {\n",
       "        vertical-align: top;\n",
       "    }\n",
       "\n",
       "    .dataframe thead th {\n",
       "        text-align: right;\n",
       "    }\n",
       "</style>\n",
       "<table border=\"1\" class=\"dataframe\">\n",
       "  <thead>\n",
       "    <tr style=\"text-align: right;\">\n",
       "      <th></th>\n",
       "      <th>ML-Model</th>\n",
       "      <th>Precision</th>\n",
       "      <th>Recall</th>\n",
       "      <th>F1-Score</th>\n",
       "      <th>Accuracy</th>\n",
       "    </tr>\n",
       "  </thead>\n",
       "  <tbody>\n",
       "    <tr>\n",
       "      <th>0</th>\n",
       "      <td>Multinomial-NB</td>\n",
       "      <td>0.896694</td>\n",
       "      <td>0.796472</td>\n",
       "      <td>0.843617</td>\n",
       "      <td>0.875006</td>\n",
       "    </tr>\n",
       "    <tr>\n",
       "      <th>1</th>\n",
       "      <td>SGDClassifier</td>\n",
       "      <td>0.941095</td>\n",
       "      <td>0.889060</td>\n",
       "      <td>0.914338</td>\n",
       "      <td>0.929484</td>\n",
       "    </tr>\n",
       "    <tr>\n",
       "      <th>2</th>\n",
       "      <td>Random Forest Classifier</td>\n",
       "      <td>0.941269</td>\n",
       "      <td>0.924106</td>\n",
       "      <td>0.932608</td>\n",
       "      <td>0.943467</td>\n",
       "    </tr>\n",
       "  </tbody>\n",
       "</table>\n",
       "</div>"
      ],
      "text/plain": [
       "                   ML-Model  Precision    Recall  F1-Score  Accuracy\n",
       "0            Multinomial-NB   0.896694  0.796472  0.843617  0.875006\n",
       "1             SGDClassifier   0.941095  0.889060  0.914338  0.929484\n",
       "2  Random Forest Classifier   0.941269  0.924106  0.932608  0.943467"
      ]
     },
     "execution_count": 31,
     "metadata": {},
     "output_type": "execute_result"
    }
   ],
   "source": [
    "Metrics.loc[len(Metrics)] = [\"Random Forest Classifier\", precision_score(y_test, y_pred), recall_score(y_test, y_pred), f1_score(y_test, y_pred), accuracy_score(y_test, y_pred)]\n",
    "Metrics"
   ]
  },
  {
   "cell_type": "markdown",
   "id": "72e5d407",
   "metadata": {},
   "source": [
    "# Linear Regression\n",
    "\n"
   ]
  },
  {
   "cell_type": "code",
   "execution_count": 32,
   "id": "20ec4df9",
   "metadata": {},
   "outputs": [],
   "source": [
    "from sklearn.linear_model import LinearRegression\n",
    "lr = LinearRegression().fit(X_train, y_train)\n",
    "y_pred = lr.predict(X_test)"
   ]
  },
  {
   "cell_type": "code",
   "execution_count": 33,
   "id": "4d72a692",
   "metadata": {},
   "outputs": [
    {
     "name": "stdout",
     "output_type": "stream",
     "text": [
      "              precision    recall  f1-score   support\n",
      "\n",
      "       False       0.91      0.96      0.93     11507\n",
      "        True       0.94      0.88      0.91      8446\n",
      "\n",
      "    accuracy                           0.92     19953\n",
      "   macro avg       0.93      0.92      0.92     19953\n",
      "weighted avg       0.92      0.92      0.92     19953\n",
      "\n"
     ]
    }
   ],
   "source": [
    "y_pred_labels = (y_pred > 0.5).astype(int)\n",
    "print(classification_report(y_test, y_pred_labels))"
   ]
  },
  {
   "cell_type": "code",
   "execution_count": 34,
   "id": "b22922c6",
   "metadata": {},
   "outputs": [],
   "source": [
    "y_pred = y_pred_labels"
   ]
  },
  {
   "cell_type": "code",
   "execution_count": 35,
   "id": "f34d18cf",
   "metadata": {},
   "outputs": [],
   "source": [
    "Metrics.loc[len(Metrics)] = [\"Linear Regression\", precision_score(y_test, y_pred), recall_score(y_test, y_pred), f1_score(y_test, y_pred), accuracy_score(y_test, y_pred)]"
   ]
  },
  {
   "cell_type": "code",
   "execution_count": 36,
   "id": "c8d6912c",
   "metadata": {},
   "outputs": [
    {
     "data": {
      "text/html": [
       "<div>\n",
       "<style scoped>\n",
       "    .dataframe tbody tr th:only-of-type {\n",
       "        vertical-align: middle;\n",
       "    }\n",
       "\n",
       "    .dataframe tbody tr th {\n",
       "        vertical-align: top;\n",
       "    }\n",
       "\n",
       "    .dataframe thead th {\n",
       "        text-align: right;\n",
       "    }\n",
       "</style>\n",
       "<table border=\"1\" class=\"dataframe\">\n",
       "  <thead>\n",
       "    <tr style=\"text-align: right;\">\n",
       "      <th></th>\n",
       "      <th>ML-Model</th>\n",
       "      <th>Precision</th>\n",
       "      <th>Recall</th>\n",
       "      <th>F1-Score</th>\n",
       "      <th>Accuracy</th>\n",
       "    </tr>\n",
       "  </thead>\n",
       "  <tbody>\n",
       "    <tr>\n",
       "      <th>0</th>\n",
       "      <td>Multinomial-NB</td>\n",
       "      <td>0.896694</td>\n",
       "      <td>0.796472</td>\n",
       "      <td>0.843617</td>\n",
       "      <td>0.875006</td>\n",
       "    </tr>\n",
       "    <tr>\n",
       "      <th>1</th>\n",
       "      <td>SGDClassifier</td>\n",
       "      <td>0.941095</td>\n",
       "      <td>0.889060</td>\n",
       "      <td>0.914338</td>\n",
       "      <td>0.929484</td>\n",
       "    </tr>\n",
       "    <tr>\n",
       "      <th>2</th>\n",
       "      <td>Random Forest Classifier</td>\n",
       "      <td>0.941269</td>\n",
       "      <td>0.924106</td>\n",
       "      <td>0.932608</td>\n",
       "      <td>0.943467</td>\n",
       "    </tr>\n",
       "    <tr>\n",
       "      <th>3</th>\n",
       "      <td>Linear Regression</td>\n",
       "      <td>0.936568</td>\n",
       "      <td>0.877575</td>\n",
       "      <td>0.906112</td>\n",
       "      <td>0.923019</td>\n",
       "    </tr>\n",
       "  </tbody>\n",
       "</table>\n",
       "</div>"
      ],
      "text/plain": [
       "                   ML-Model  Precision    Recall  F1-Score  Accuracy\n",
       "0            Multinomial-NB   0.896694  0.796472  0.843617  0.875006\n",
       "1             SGDClassifier   0.941095  0.889060  0.914338  0.929484\n",
       "2  Random Forest Classifier   0.941269  0.924106  0.932608  0.943467\n",
       "3         Linear Regression   0.936568  0.877575  0.906112  0.923019"
      ]
     },
     "execution_count": 36,
     "metadata": {},
     "output_type": "execute_result"
    }
   ],
   "source": [
    "Metrics"
   ]
  },
  {
   "cell_type": "markdown",
   "id": "54921d76",
   "metadata": {},
   "source": [
    "# Logistic Regression"
   ]
  },
  {
   "cell_type": "code",
   "execution_count": 37,
   "id": "89779957",
   "metadata": {},
   "outputs": [],
   "source": [
    "from sklearn.linear_model import LogisticRegression\n",
    "\n",
    "spam_classifier = LogisticRegression().fit(X_train, y_train)\n",
    "y_pred = spam_classifier.predict(X_test)\n"
   ]
  },
  {
   "cell_type": "code",
   "execution_count": 38,
   "id": "b8932c06",
   "metadata": {},
   "outputs": [
    {
     "name": "stdout",
     "output_type": "stream",
     "text": [
      "              precision    recall  f1-score   support\n",
      "\n",
      "       False       0.92      0.95      0.94     11507\n",
      "        True       0.93      0.89      0.91      8446\n",
      "\n",
      "    accuracy                           0.93     19953\n",
      "   macro avg       0.93      0.92      0.92     19953\n",
      "weighted avg       0.93      0.93      0.92     19953\n",
      "\n"
     ]
    }
   ],
   "source": [
    "print(classification_report(y_test, y_pred))"
   ]
  },
  {
   "cell_type": "code",
   "execution_count": 39,
   "id": "f464ae4f",
   "metadata": {},
   "outputs": [],
   "source": [
    "Metrics.loc[len(Metrics)] = [\"Logistic Regression\", precision_score(y_test, y_pred), recall_score(y_test, y_pred), f1_score(y_test, y_pred), accuracy_score(y_test, y_pred)]"
   ]
  },
  {
   "cell_type": "code",
   "execution_count": 40,
   "id": "1e298c56",
   "metadata": {},
   "outputs": [
    {
     "data": {
      "text/html": [
       "<div>\n",
       "<style scoped>\n",
       "    .dataframe tbody tr th:only-of-type {\n",
       "        vertical-align: middle;\n",
       "    }\n",
       "\n",
       "    .dataframe tbody tr th {\n",
       "        vertical-align: top;\n",
       "    }\n",
       "\n",
       "    .dataframe thead th {\n",
       "        text-align: right;\n",
       "    }\n",
       "</style>\n",
       "<table border=\"1\" class=\"dataframe\">\n",
       "  <thead>\n",
       "    <tr style=\"text-align: right;\">\n",
       "      <th></th>\n",
       "      <th>ML-Model</th>\n",
       "      <th>Precision</th>\n",
       "      <th>Recall</th>\n",
       "      <th>F1-Score</th>\n",
       "      <th>Accuracy</th>\n",
       "    </tr>\n",
       "  </thead>\n",
       "  <tbody>\n",
       "    <tr>\n",
       "      <th>0</th>\n",
       "      <td>Multinomial-NB</td>\n",
       "      <td>0.896694</td>\n",
       "      <td>0.796472</td>\n",
       "      <td>0.843617</td>\n",
       "      <td>0.875006</td>\n",
       "    </tr>\n",
       "    <tr>\n",
       "      <th>1</th>\n",
       "      <td>SGDClassifier</td>\n",
       "      <td>0.941095</td>\n",
       "      <td>0.889060</td>\n",
       "      <td>0.914338</td>\n",
       "      <td>0.929484</td>\n",
       "    </tr>\n",
       "    <tr>\n",
       "      <th>2</th>\n",
       "      <td>Random Forest Classifier</td>\n",
       "      <td>0.941269</td>\n",
       "      <td>0.924106</td>\n",
       "      <td>0.932608</td>\n",
       "      <td>0.943467</td>\n",
       "    </tr>\n",
       "    <tr>\n",
       "      <th>3</th>\n",
       "      <td>Linear Regression</td>\n",
       "      <td>0.936568</td>\n",
       "      <td>0.877575</td>\n",
       "      <td>0.906112</td>\n",
       "      <td>0.923019</td>\n",
       "    </tr>\n",
       "    <tr>\n",
       "      <th>4</th>\n",
       "      <td>Logistic Regression</td>\n",
       "      <td>0.932132</td>\n",
       "      <td>0.887876</td>\n",
       "      <td>0.909466</td>\n",
       "      <td>0.925174</td>\n",
       "    </tr>\n",
       "  </tbody>\n",
       "</table>\n",
       "</div>"
      ],
      "text/plain": [
       "                   ML-Model  Precision    Recall  F1-Score  Accuracy\n",
       "0            Multinomial-NB   0.896694  0.796472  0.843617  0.875006\n",
       "1             SGDClassifier   0.941095  0.889060  0.914338  0.929484\n",
       "2  Random Forest Classifier   0.941269  0.924106  0.932608  0.943467\n",
       "3         Linear Regression   0.936568  0.877575  0.906112  0.923019\n",
       "4       Logistic Regression   0.932132  0.887876  0.909466  0.925174"
      ]
     },
     "execution_count": 40,
     "metadata": {},
     "output_type": "execute_result"
    }
   ],
   "source": [
    "Metrics"
   ]
  },
  {
   "cell_type": "markdown",
   "id": "cfa1b8b1",
   "metadata": {},
   "source": [
    "# Ada Boost"
   ]
  },
  {
   "cell_type": "code",
   "execution_count": 41,
   "id": "782e1f20",
   "metadata": {},
   "outputs": [
    {
     "name": "stderr",
     "output_type": "stream",
     "text": [
      "/opt/anaconda3/lib/python3.12/site-packages/sklearn/ensemble/_weight_boosting.py:527: FutureWarning: The SAMME.R algorithm (the default) is deprecated and will be removed in 1.6. Use the SAMME algorithm to circumvent this warning.\n",
      "  warnings.warn(\n"
     ]
    }
   ],
   "source": [
    "from sklearn.ensemble import AdaBoostClassifier\n",
    "ada_classifier = AdaBoostClassifier().fit(X_train, y_train)\n",
    "y_pred = ada_classifier.predict(X_test)"
   ]
  },
  {
   "cell_type": "code",
   "execution_count": 42,
   "id": "8f1fb499",
   "metadata": {},
   "outputs": [
    {
     "name": "stdout",
     "output_type": "stream",
     "text": [
      "              precision    recall  f1-score   support\n",
      "\n",
      "       False       0.88      0.95      0.91     11507\n",
      "        True       0.92      0.82      0.87      8446\n",
      "\n",
      "    accuracy                           0.89     19953\n",
      "   macro avg       0.90      0.88      0.89     19953\n",
      "weighted avg       0.89      0.89      0.89     19953\n",
      "\n"
     ]
    }
   ],
   "source": [
    "print(classification_report(y_test, y_pred))"
   ]
  },
  {
   "cell_type": "code",
   "execution_count": 43,
   "id": "2cf5d59a",
   "metadata": {},
   "outputs": [],
   "source": [
    "Metrics.loc[len(Metrics)] = [\"Ada boost\", precision_score(y_test, y_pred), recall_score(y_test, y_pred), f1_score(y_test, y_pred), accuracy_score(y_test, y_pred)]"
   ]
  },
  {
   "cell_type": "code",
   "execution_count": 44,
   "id": "db809d5b",
   "metadata": {},
   "outputs": [
    {
     "data": {
      "text/html": [
       "<div>\n",
       "<style scoped>\n",
       "    .dataframe tbody tr th:only-of-type {\n",
       "        vertical-align: middle;\n",
       "    }\n",
       "\n",
       "    .dataframe tbody tr th {\n",
       "        vertical-align: top;\n",
       "    }\n",
       "\n",
       "    .dataframe thead th {\n",
       "        text-align: right;\n",
       "    }\n",
       "</style>\n",
       "<table border=\"1\" class=\"dataframe\">\n",
       "  <thead>\n",
       "    <tr style=\"text-align: right;\">\n",
       "      <th></th>\n",
       "      <th>ML-Model</th>\n",
       "      <th>Precision</th>\n",
       "      <th>Recall</th>\n",
       "      <th>F1-Score</th>\n",
       "      <th>Accuracy</th>\n",
       "    </tr>\n",
       "  </thead>\n",
       "  <tbody>\n",
       "    <tr>\n",
       "      <th>0</th>\n",
       "      <td>Multinomial-NB</td>\n",
       "      <td>0.896694</td>\n",
       "      <td>0.796472</td>\n",
       "      <td>0.843617</td>\n",
       "      <td>0.875006</td>\n",
       "    </tr>\n",
       "    <tr>\n",
       "      <th>1</th>\n",
       "      <td>SGDClassifier</td>\n",
       "      <td>0.941095</td>\n",
       "      <td>0.889060</td>\n",
       "      <td>0.914338</td>\n",
       "      <td>0.929484</td>\n",
       "    </tr>\n",
       "    <tr>\n",
       "      <th>2</th>\n",
       "      <td>Random Forest Classifier</td>\n",
       "      <td>0.941269</td>\n",
       "      <td>0.924106</td>\n",
       "      <td>0.932608</td>\n",
       "      <td>0.943467</td>\n",
       "    </tr>\n",
       "    <tr>\n",
       "      <th>3</th>\n",
       "      <td>Linear Regression</td>\n",
       "      <td>0.936568</td>\n",
       "      <td>0.877575</td>\n",
       "      <td>0.906112</td>\n",
       "      <td>0.923019</td>\n",
       "    </tr>\n",
       "    <tr>\n",
       "      <th>4</th>\n",
       "      <td>Logistic Regression</td>\n",
       "      <td>0.932132</td>\n",
       "      <td>0.887876</td>\n",
       "      <td>0.909466</td>\n",
       "      <td>0.925174</td>\n",
       "    </tr>\n",
       "    <tr>\n",
       "      <th>5</th>\n",
       "      <td>Ada boost</td>\n",
       "      <td>0.916700</td>\n",
       "      <td>0.820862</td>\n",
       "      <td>0.866138</td>\n",
       "      <td>0.892598</td>\n",
       "    </tr>\n",
       "  </tbody>\n",
       "</table>\n",
       "</div>"
      ],
      "text/plain": [
       "                   ML-Model  Precision    Recall  F1-Score  Accuracy\n",
       "0            Multinomial-NB   0.896694  0.796472  0.843617  0.875006\n",
       "1             SGDClassifier   0.941095  0.889060  0.914338  0.929484\n",
       "2  Random Forest Classifier   0.941269  0.924106  0.932608  0.943467\n",
       "3         Linear Regression   0.936568  0.877575  0.906112  0.923019\n",
       "4       Logistic Regression   0.932132  0.887876  0.909466  0.925174\n",
       "5                 Ada boost   0.916700  0.820862  0.866138  0.892598"
      ]
     },
     "execution_count": 44,
     "metadata": {},
     "output_type": "execute_result"
    }
   ],
   "source": [
    "Metrics"
   ]
  },
  {
   "cell_type": "markdown",
   "id": "687e6767",
   "metadata": {},
   "source": [
    "# XG Boost"
   ]
  },
  {
   "cell_type": "code",
   "execution_count": 45,
   "id": "4f8d65e5",
   "metadata": {},
   "outputs": [
    {
     "name": "stdout",
     "output_type": "stream",
     "text": [
      "Requirement already satisfied: xgboost in /opt/anaconda3/lib/python3.12/site-packages (3.0.4)\n",
      "Requirement already satisfied: numpy in /opt/anaconda3/lib/python3.12/site-packages (from xgboost) (1.26.4)\n",
      "Requirement already satisfied: scipy in /opt/anaconda3/lib/python3.12/site-packages (from xgboost) (1.13.1)\n"
     ]
    }
   ],
   "source": [
    "!pip install xgboost"
   ]
  },
  {
   "cell_type": "code",
   "execution_count": 46,
   "id": "591e9c13",
   "metadata": {},
   "outputs": [],
   "source": [
    "import xgboost as xgb\n",
    "xgbr = xgb.XGBRegressor().fit(X_train, y_train)\n",
    "y_pred = xgbr.predict(X_test)"
   ]
  },
  {
   "cell_type": "code",
   "execution_count": 47,
   "id": "9e28b325",
   "metadata": {},
   "outputs": [
    {
     "name": "stdout",
     "output_type": "stream",
     "text": [
      "              precision    recall  f1-score   support\n",
      "\n",
      "       False       0.94      0.97      0.95     11507\n",
      "        True       0.95      0.91      0.93      8446\n",
      "\n",
      "    accuracy                           0.94     19953\n",
      "   macro avg       0.95      0.94      0.94     19953\n",
      "weighted avg       0.94      0.94      0.94     19953\n",
      "\n"
     ]
    }
   ],
   "source": [
    "y_pred_labels = (y_pred > 0.5).astype(int)\n",
    "print(classification_report(y_test, y_pred_labels))"
   ]
  },
  {
   "cell_type": "code",
   "execution_count": 49,
   "id": "c82f5840",
   "metadata": {},
   "outputs": [],
   "source": [
    "y_pred = y_pred_labels"
   ]
  },
  {
   "cell_type": "code",
   "execution_count": 50,
   "id": "b4653e46",
   "metadata": {},
   "outputs": [],
   "source": [
    "Metrics.loc[len(Metrics)] = [\"XG Boost\", precision_score(y_test, y_pred), recall_score(y_test, y_pred), f1_score(y_test, y_pred), accuracy_score(y_test, y_pred)]"
   ]
  },
  {
   "cell_type": "markdown",
   "id": "7aae39e1",
   "metadata": {},
   "source": [
    "# So totally now we have all performances here.."
   ]
  },
  {
   "cell_type": "code",
   "execution_count": 51,
   "id": "3b2acf7c",
   "metadata": {},
   "outputs": [
    {
     "data": {
      "text/html": [
       "<div>\n",
       "<style scoped>\n",
       "    .dataframe tbody tr th:only-of-type {\n",
       "        vertical-align: middle;\n",
       "    }\n",
       "\n",
       "    .dataframe tbody tr th {\n",
       "        vertical-align: top;\n",
       "    }\n",
       "\n",
       "    .dataframe thead th {\n",
       "        text-align: right;\n",
       "    }\n",
       "</style>\n",
       "<table border=\"1\" class=\"dataframe\">\n",
       "  <thead>\n",
       "    <tr style=\"text-align: right;\">\n",
       "      <th></th>\n",
       "      <th>ML-Model</th>\n",
       "      <th>Precision</th>\n",
       "      <th>Recall</th>\n",
       "      <th>F1-Score</th>\n",
       "      <th>Accuracy</th>\n",
       "    </tr>\n",
       "  </thead>\n",
       "  <tbody>\n",
       "    <tr>\n",
       "      <th>0</th>\n",
       "      <td>Multinomial-NB</td>\n",
       "      <td>0.896694</td>\n",
       "      <td>0.796472</td>\n",
       "      <td>0.843617</td>\n",
       "      <td>0.875006</td>\n",
       "    </tr>\n",
       "    <tr>\n",
       "      <th>1</th>\n",
       "      <td>SGDClassifier</td>\n",
       "      <td>0.941095</td>\n",
       "      <td>0.889060</td>\n",
       "      <td>0.914338</td>\n",
       "      <td>0.929484</td>\n",
       "    </tr>\n",
       "    <tr>\n",
       "      <th>2</th>\n",
       "      <td>Random Forest Classifier</td>\n",
       "      <td>0.941269</td>\n",
       "      <td>0.924106</td>\n",
       "      <td>0.932608</td>\n",
       "      <td>0.943467</td>\n",
       "    </tr>\n",
       "    <tr>\n",
       "      <th>3</th>\n",
       "      <td>Linear Regression</td>\n",
       "      <td>0.936568</td>\n",
       "      <td>0.877575</td>\n",
       "      <td>0.906112</td>\n",
       "      <td>0.923019</td>\n",
       "    </tr>\n",
       "    <tr>\n",
       "      <th>4</th>\n",
       "      <td>Logistic Regression</td>\n",
       "      <td>0.932132</td>\n",
       "      <td>0.887876</td>\n",
       "      <td>0.909466</td>\n",
       "      <td>0.925174</td>\n",
       "    </tr>\n",
       "    <tr>\n",
       "      <th>5</th>\n",
       "      <td>Ada boost</td>\n",
       "      <td>0.916700</td>\n",
       "      <td>0.820862</td>\n",
       "      <td>0.866138</td>\n",
       "      <td>0.892598</td>\n",
       "    </tr>\n",
       "    <tr>\n",
       "      <th>6</th>\n",
       "      <td>XG Boost</td>\n",
       "      <td>0.953802</td>\n",
       "      <td>0.911793</td>\n",
       "      <td>0.932324</td>\n",
       "      <td>0.943968</td>\n",
       "    </tr>\n",
       "  </tbody>\n",
       "</table>\n",
       "</div>"
      ],
      "text/plain": [
       "                   ML-Model  Precision    Recall  F1-Score  Accuracy\n",
       "0            Multinomial-NB   0.896694  0.796472  0.843617  0.875006\n",
       "1             SGDClassifier   0.941095  0.889060  0.914338  0.929484\n",
       "2  Random Forest Classifier   0.941269  0.924106  0.932608  0.943467\n",
       "3         Linear Regression   0.936568  0.877575  0.906112  0.923019\n",
       "4       Logistic Regression   0.932132  0.887876  0.909466  0.925174\n",
       "5                 Ada boost   0.916700  0.820862  0.866138  0.892598\n",
       "6                  XG Boost   0.953802  0.911793  0.932324  0.943968"
      ]
     },
     "execution_count": 51,
     "metadata": {},
     "output_type": "execute_result"
    }
   ],
   "source": [
    "Metrics "
   ]
  },
  {
   "cell_type": "code",
   "execution_count": 61,
   "id": "d6851e9d",
   "metadata": {},
   "outputs": [
    {
     "data": {
      "text/plain": [
       "<Axes: xlabel='ML-Model', ylabel='Accuracy'>"
      ]
     },
     "execution_count": 61,
     "metadata": {},
     "output_type": "execute_result"
    },
    {
     "data": {
      "image/png": "[encoded data removed]",
      "text/plain": [
       "<Figure size 1500x600 with 1 Axes>"
      ]
     },
     "metadata": {},
     "output_type": "display_data"
    }
   ],
   "source": [
    "import seaborn as sns\n",
    "import matplotlib.pyplot as plt\n",
    "plt.figure(figsize=(15,6))\n",
    "sns.lineplot(data=Metrics, x=\"ML-Model\", y=\"Accuracy\", marker=\"o\")"
   ]
  },
  {
   "cell_type": "code",
   "execution_count": 63,
   "id": "7f3a8e01",
   "metadata": {},
   "outputs": [
    {
     "data": {
      "text/plain": [
       "<Axes: xlabel='ML-Model', ylabel='Precision'>"
      ]
     },
     "execution_count": 63,
     "metadata": {},
     "output_type": "execute_result"
    },
    {
     "data": {
      "image/png": "[encoded data removed]",
      "text/plain": [
       "<Figure size 1500x600 with 1 Axes>"
      ]
     },
     "metadata": {},
     "output_type": "display_data"
    }
   ],
   "source": [
    "plt.figure(figsize=(15,6))\n",
    "sns.lineplot(data=Metrics, x=\"ML-Model\", y=\"Precision\", marker=\"o\")"
   ]
  },
  {
   "cell_type": "code",
   "execution_count": 64,
   "id": "05906051",
   "metadata": {},
   "outputs": [
    {
     "data": {
      "text/plain": [
       "<Axes: xlabel='ML-Model', ylabel='Recall'>"
      ]
     },
     "execution_count": 64,
     "metadata": {},
     "output_type": "execute_result"
    },
    {
     "data": {
      "image/png": "[encoded data removed]",
      "text/plain": [
       "<Figure size 1500x600 with 1 Axes>"
      ]
     },
     "metadata": {},
     "output_type": "display_data"
    }
   ],
   "source": [
    "plt.figure(figsize=(15,6))\n",
    "sns.lineplot(data=Metrics, x=\"ML-Model\", y=\"Recall\", marker=\"o\")"
   ]
  }
 ],
 "metadata": {
  "kernelspec": {
   "display_name": "base",
   "language": "python",
   "name": "python3"
  },
  "language_info": {
   "codemirror_mode": {
    "name": "ipython",
    "version": 3
   },
   "file_extension": ".py",
   "mimetype": "text/x-python",
   "name": "python",
   "nbconvert_exporter": "python",
   "pygments_lexer": "ipython3",
   "version": "3.12.7"
  }
 },
 "nbformat": 4,
 "nbformat_minor": 5
}
